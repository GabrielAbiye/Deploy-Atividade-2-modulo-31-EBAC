{
 "cells": [
  {
   "cell_type": "code",
   "execution_count": 78,
   "metadata": {
    "_cell_guid": "fb109ad4-cdae-4e93-be9a-cff4f04dcfc4",
    "_uuid": "2b3bec228338f1149d7f9673ed7304064fa0d707"
   },
   "outputs": [],
   "source": [
    "import numpy as np \n",
    "import pandas as pd\n",
    "import os\n",
    "import matplotlib.pyplot as plt\n",
    "import seaborn as sns\n",
    "\n",
    "from datetime import datetime\n",
    "from sklearn.preprocessing import StandardScaler\n",
    "from gower import gower_matrix\n",
    "\n",
    "from scipy.cluster.hierarchy import linkage , fcluster , dendrogram\n",
    "from scipy.spatial.distance import pdist , squareform\n",
    "\n",
    "\n",
    "os.makedirs('./output', exist_ok=True)"
   ]
  },
  {
   "cell_type": "markdown",
   "metadata": {
    "_uuid": "cbaccf99777325fb28ee98c749fea76c4b5693b6"
   },
   "source": [
    "# RFV"
   ]
  },
  {
   "cell_type": "markdown",
   "metadata": {
    "_uuid": "ec2d9fb9cd749c93e38e928a9f9a19cb5f3ea345"
   },
   "source": [
    "**RFV** significa recência, frequência, valor e é utilizado para segmentação de clientes baseado no comportamento de compras dos clientes e agrupa eles em clusters parecidos. Utilizando esse tipo de agrupamento podemos realizar ações de marketing e CRM melhores direcionadas, ajudando assim na personalização do conteúdo e até a retenção de clientes.\n",
    "\n",
    "Para cada cliente é preciso calcular cada uma das componentes abaixo:\n",
    "\n",
    "- Recência (R): Quantidade de dias desde a última compra.\n",
    "- Frequência (F): Quantidade total de compras no período.\n",
    "- Valor (V): Total de dinheiro gasto nas compras do período.\n",
    "\n",
    "E é isso que iremos fazer abaixo."
   ]
  },
  {
   "cell_type": "code",
   "execution_count": 79,
   "metadata": {
    "_uuid": "29f4d8a264683adbc8960d28b5fd3a3d2b476e7b"
   },
   "outputs": [
    {
     "data": {
      "text/html": [
       "<div>\n",
       "<style scoped>\n",
       "    .dataframe tbody tr th:only-of-type {\n",
       "        vertical-align: middle;\n",
       "    }\n",
       "\n",
       "    .dataframe tbody tr th {\n",
       "        vertical-align: top;\n",
       "    }\n",
       "\n",
       "    .dataframe thead th {\n",
       "        text-align: right;\n",
       "    }\n",
       "</style>\n",
       "<table border=\"1\" class=\"dataframe\">\n",
       "  <thead>\n",
       "    <tr style=\"text-align: right;\">\n",
       "      <th></th>\n",
       "      <th>ID_cliente</th>\n",
       "      <th>CodigoCompra</th>\n",
       "      <th>DiaCompra</th>\n",
       "      <th>ValorTotal</th>\n",
       "    </tr>\n",
       "  </thead>\n",
       "  <tbody>\n",
       "    <tr>\n",
       "      <th>0</th>\n",
       "      <td>12747</td>\n",
       "      <td>537215</td>\n",
       "      <td>2020-12-05</td>\n",
       "      <td>358.56</td>\n",
       "    </tr>\n",
       "    <tr>\n",
       "      <th>1</th>\n",
       "      <td>12747</td>\n",
       "      <td>538537</td>\n",
       "      <td>2020-12-13</td>\n",
       "      <td>347.71</td>\n",
       "    </tr>\n",
       "    <tr>\n",
       "      <th>2</th>\n",
       "      <td>12747</td>\n",
       "      <td>541677</td>\n",
       "      <td>2021-01-20</td>\n",
       "      <td>303.04</td>\n",
       "    </tr>\n",
       "    <tr>\n",
       "      <th>3</th>\n",
       "      <td>12747</td>\n",
       "      <td>545321</td>\n",
       "      <td>2021-03-01</td>\n",
       "      <td>310.78</td>\n",
       "    </tr>\n",
       "    <tr>\n",
       "      <th>4</th>\n",
       "      <td>12747</td>\n",
       "      <td>551992</td>\n",
       "      <td>2021-05-05</td>\n",
       "      <td>442.96</td>\n",
       "    </tr>\n",
       "  </tbody>\n",
       "</table>\n",
       "</div>"
      ],
      "text/plain": [
       "   ID_cliente  CodigoCompra  DiaCompra  ValorTotal\n",
       "0       12747        537215 2020-12-05      358.56\n",
       "1       12747        538537 2020-12-13      347.71\n",
       "2       12747        541677 2021-01-20      303.04\n",
       "3       12747        545321 2021-03-01      310.78\n",
       "4       12747        551992 2021-05-05      442.96"
      ]
     },
     "execution_count": 79,
     "metadata": {},
     "output_type": "execute_result"
    }
   ],
   "source": [
    "#os.makedirs('./output', exist_ok=True)\n",
    "df_compras = pd.read_csv(r'.\\Atividade 1\\Atividade-modulo-31-ciencia-de-dados-EBAC\\input\\dados_input 1.csv',\n",
    "                         parse_dates=['DiaCompra'])\n",
    "df_compras.head(5)"
   ]
  },
  {
   "cell_type": "code",
   "execution_count": 80,
   "metadata": {},
   "outputs": [
    {
     "data": {
      "text/plain": [
       "(16127, 4)"
      ]
     },
     "execution_count": 80,
     "metadata": {},
     "output_type": "execute_result"
    }
   ],
   "source": [
    "df_compras.shape"
   ]
  },
  {
   "cell_type": "code",
   "execution_count": 81,
   "metadata": {},
   "outputs": [
    {
     "data": {
      "text/plain": [
       "ID_cliente               int64\n",
       "CodigoCompra             int64\n",
       "DiaCompra       datetime64[ns]\n",
       "ValorTotal             float64\n",
       "dtype: object"
      ]
     },
     "execution_count": 81,
     "metadata": {},
     "output_type": "execute_result"
    }
   ],
   "source": [
    "df_compras.dtypes"
   ]
  },
  {
   "cell_type": "code",
   "execution_count": 82,
   "metadata": {
    "_uuid": "ce44965c055012d19e134765eb3f6beeabf0ec9a"
   },
   "outputs": [
    {
     "data": {
      "text/plain": [
       "Timestamp('2020-12-01 00:00:00')"
      ]
     },
     "execution_count": 82,
     "metadata": {},
     "output_type": "execute_result"
    }
   ],
   "source": [
    "df_compras['DiaCompra'].min()"
   ]
  },
  {
   "cell_type": "code",
   "execution_count": 83,
   "metadata": {
    "_uuid": "ce44965c055012d19e134765eb3f6beeabf0ec9a"
   },
   "outputs": [
    {
     "data": {
      "text/plain": [
       "Timestamp('2021-12-09 00:00:00')"
      ]
     },
     "execution_count": 83,
     "metadata": {},
     "output_type": "execute_result"
    }
   ],
   "source": [
    "df_compras['DiaCompra'].max()"
   ]
  },
  {
   "cell_type": "code",
   "execution_count": 84,
   "metadata": {
    "_uuid": "0c43532a30cfa7b4271dbbe8a2a93499693c50a5"
   },
   "outputs": [
    {
     "name": "stdout",
     "output_type": "stream",
     "text": [
      "2021-12-09 00:00:00\n"
     ]
    }
   ],
   "source": [
    "dia_atual = datetime(2021, 12, 9)\n",
    "print(dia_atual)"
   ]
  },
  {
   "cell_type": "markdown",
   "metadata": {
    "_uuid": "37025d4aa093ef0ce9fe86d68ba9655564b94656"
   },
   "source": [
    "## Recência"
   ]
  },
  {
   "cell_type": "markdown",
   "metadata": {
    "_uuid": "9c0b5a6c58b1ab515d3ac34738733d5e2a1729af"
   },
   "source": [
    "**Quantos dias faz que o cliente fez a sua última compra?**"
   ]
  },
  {
   "cell_type": "code",
   "execution_count": 85,
   "metadata": {
    "_uuid": "f46c2dafc60fc8fae6ef5771e926bf1ab9c80544"
   },
   "outputs": [
    {
     "data": {
      "text/html": [
       "<div>\n",
       "<style scoped>\n",
       "    .dataframe tbody tr th:only-of-type {\n",
       "        vertical-align: middle;\n",
       "    }\n",
       "\n",
       "    .dataframe tbody tr th {\n",
       "        vertical-align: top;\n",
       "    }\n",
       "\n",
       "    .dataframe thead th {\n",
       "        text-align: right;\n",
       "    }\n",
       "</style>\n",
       "<table border=\"1\" class=\"dataframe\">\n",
       "  <thead>\n",
       "    <tr style=\"text-align: right;\">\n",
       "      <th></th>\n",
       "      <th>ID_cliente</th>\n",
       "      <th>DiaUltimaCompra</th>\n",
       "    </tr>\n",
       "  </thead>\n",
       "  <tbody>\n",
       "    <tr>\n",
       "      <th>0</th>\n",
       "      <td>12747</td>\n",
       "      <td>2021-12-07</td>\n",
       "    </tr>\n",
       "    <tr>\n",
       "      <th>1</th>\n",
       "      <td>12748</td>\n",
       "      <td>2021-12-09</td>\n",
       "    </tr>\n",
       "    <tr>\n",
       "      <th>2</th>\n",
       "      <td>12749</td>\n",
       "      <td>2021-12-06</td>\n",
       "    </tr>\n",
       "    <tr>\n",
       "      <th>3</th>\n",
       "      <td>12820</td>\n",
       "      <td>2021-12-06</td>\n",
       "    </tr>\n",
       "    <tr>\n",
       "      <th>4</th>\n",
       "      <td>12821</td>\n",
       "      <td>2021-05-09</td>\n",
       "    </tr>\n",
       "  </tbody>\n",
       "</table>\n",
       "</div>"
      ],
      "text/plain": [
       "   ID_cliente DiaUltimaCompra\n",
       "0       12747      2021-12-07\n",
       "1       12748      2021-12-09\n",
       "2       12749      2021-12-06\n",
       "3       12820      2021-12-06\n",
       "4       12821      2021-05-09"
      ]
     },
     "execution_count": 85,
     "metadata": {},
     "output_type": "execute_result"
    }
   ],
   "source": [
    "#group by customers and check last date of purshace\n",
    "df_recencia = df_compras.groupby(by='ID_cliente',\n",
    "                                 as_index=False)['DiaCompra'].max()\n",
    "df_recencia.columns = ['ID_cliente', 'DiaUltimaCompra']\n",
    "df_recencia.head()"
   ]
  },
  {
   "cell_type": "code",
   "execution_count": 86,
   "metadata": {
    "_uuid": "0f9cc1426b3f070520c2a7009c4248978810e75d"
   },
   "outputs": [],
   "source": [
    "df_recencia['Recencia'] = df_recencia['DiaUltimaCompra'].apply(\n",
    "    lambda x: (dia_atual - x).days)"
   ]
  },
  {
   "cell_type": "code",
   "execution_count": 87,
   "metadata": {
    "_uuid": "ce44965c055012d19e134765eb3f6beeabf0ec9a"
   },
   "outputs": [
    {
     "data": {
      "text/plain": [
       "Timestamp('2021-12-09 00:00:00')"
      ]
     },
     "execution_count": 87,
     "metadata": {},
     "output_type": "execute_result"
    }
   ],
   "source": [
    "df_compras['DiaCompra'].max()"
   ]
  },
  {
   "cell_type": "code",
   "execution_count": 88,
   "metadata": {
    "_uuid": "0c43532a30cfa7b4271dbbe8a2a93499693c50a5"
   },
   "outputs": [
    {
     "name": "stdout",
     "output_type": "stream",
     "text": [
      "2021-12-09 00:00:00\n"
     ]
    }
   ],
   "source": [
    "dia_atual = datetime(2021,12,9)\n",
    "print(dia_atual)"
   ]
  },
  {
   "cell_type": "code",
   "execution_count": 89,
   "metadata": {
    "_uuid": "c16b48098b91e515574c17d163e632567499e564"
   },
   "outputs": [
    {
     "data": {
      "text/html": [
       "<div>\n",
       "<style scoped>\n",
       "    .dataframe tbody tr th:only-of-type {\n",
       "        vertical-align: middle;\n",
       "    }\n",
       "\n",
       "    .dataframe tbody tr th {\n",
       "        vertical-align: top;\n",
       "    }\n",
       "\n",
       "    .dataframe thead th {\n",
       "        text-align: right;\n",
       "    }\n",
       "</style>\n",
       "<table border=\"1\" class=\"dataframe\">\n",
       "  <thead>\n",
       "    <tr style=\"text-align: right;\">\n",
       "      <th></th>\n",
       "      <th>ID_cliente</th>\n",
       "      <th>DiaUltimaCompra</th>\n",
       "      <th>Recencia</th>\n",
       "    </tr>\n",
       "  </thead>\n",
       "  <tbody>\n",
       "    <tr>\n",
       "      <th>0</th>\n",
       "      <td>12747</td>\n",
       "      <td>2021-12-07</td>\n",
       "      <td>2</td>\n",
       "    </tr>\n",
       "    <tr>\n",
       "      <th>1</th>\n",
       "      <td>12748</td>\n",
       "      <td>2021-12-09</td>\n",
       "      <td>0</td>\n",
       "    </tr>\n",
       "    <tr>\n",
       "      <th>2</th>\n",
       "      <td>12749</td>\n",
       "      <td>2021-12-06</td>\n",
       "      <td>3</td>\n",
       "    </tr>\n",
       "    <tr>\n",
       "      <th>3</th>\n",
       "      <td>12820</td>\n",
       "      <td>2021-12-06</td>\n",
       "      <td>3</td>\n",
       "    </tr>\n",
       "    <tr>\n",
       "      <th>4</th>\n",
       "      <td>12821</td>\n",
       "      <td>2021-05-09</td>\n",
       "      <td>214</td>\n",
       "    </tr>\n",
       "  </tbody>\n",
       "</table>\n",
       "</div>"
      ],
      "text/plain": [
       "   ID_cliente DiaUltimaCompra  Recencia\n",
       "0       12747      2021-12-07         2\n",
       "1       12748      2021-12-09         0\n",
       "2       12749      2021-12-06         3\n",
       "3       12820      2021-12-06         3\n",
       "4       12821      2021-05-09       214"
      ]
     },
     "execution_count": 89,
     "metadata": {},
     "output_type": "execute_result"
    }
   ],
   "source": [
    "df_recencia.head()"
   ]
  },
  {
   "cell_type": "code",
   "execution_count": 90,
   "metadata": {
    "_uuid": "9fa862b85b52d80bbf5b127234d30c67f4aa4181"
   },
   "outputs": [],
   "source": [
    "df_recencia.drop('DiaUltimaCompra', axis=1, inplace=True)"
   ]
  },
  {
   "cell_type": "markdown",
   "metadata": {
    "_uuid": "64c16d4ddbd8ee8719dcddde7e3257d7f9faffb3"
   },
   "source": [
    "## Frequência"
   ]
  },
  {
   "cell_type": "markdown",
   "metadata": {
    "_uuid": "9c0b5a6c58b1ab515d3ac34738733d5e2a1729af"
   },
   "source": [
    "**Quantas vezes cada cliente comprou com a gente?**"
   ]
  },
  {
   "cell_type": "code",
   "execution_count": 91,
   "metadata": {},
   "outputs": [
    {
     "data": {
      "text/html": [
       "<div>\n",
       "<style scoped>\n",
       "    .dataframe tbody tr th:only-of-type {\n",
       "        vertical-align: middle;\n",
       "    }\n",
       "\n",
       "    .dataframe tbody tr th {\n",
       "        vertical-align: top;\n",
       "    }\n",
       "\n",
       "    .dataframe thead th {\n",
       "        text-align: right;\n",
       "    }\n",
       "</style>\n",
       "<table border=\"1\" class=\"dataframe\">\n",
       "  <thead>\n",
       "    <tr style=\"text-align: right;\">\n",
       "      <th></th>\n",
       "      <th>ID_cliente</th>\n",
       "      <th>CodigoCompra</th>\n",
       "      <th>DiaCompra</th>\n",
       "      <th>ValorTotal</th>\n",
       "    </tr>\n",
       "  </thead>\n",
       "  <tbody>\n",
       "    <tr>\n",
       "      <th>0</th>\n",
       "      <td>12747</td>\n",
       "      <td>537215</td>\n",
       "      <td>2020-12-05</td>\n",
       "      <td>358.56</td>\n",
       "    </tr>\n",
       "    <tr>\n",
       "      <th>1</th>\n",
       "      <td>12747</td>\n",
       "      <td>538537</td>\n",
       "      <td>2020-12-13</td>\n",
       "      <td>347.71</td>\n",
       "    </tr>\n",
       "    <tr>\n",
       "      <th>2</th>\n",
       "      <td>12747</td>\n",
       "      <td>541677</td>\n",
       "      <td>2021-01-20</td>\n",
       "      <td>303.04</td>\n",
       "    </tr>\n",
       "    <tr>\n",
       "      <th>3</th>\n",
       "      <td>12747</td>\n",
       "      <td>545321</td>\n",
       "      <td>2021-03-01</td>\n",
       "      <td>310.78</td>\n",
       "    </tr>\n",
       "    <tr>\n",
       "      <th>4</th>\n",
       "      <td>12747</td>\n",
       "      <td>551992</td>\n",
       "      <td>2021-05-05</td>\n",
       "      <td>442.96</td>\n",
       "    </tr>\n",
       "    <tr>\n",
       "      <th>5</th>\n",
       "      <td>12747</td>\n",
       "      <td>554549</td>\n",
       "      <td>2021-05-25</td>\n",
       "      <td>328.35</td>\n",
       "    </tr>\n",
       "    <tr>\n",
       "      <th>6</th>\n",
       "      <td>12747</td>\n",
       "      <td>558265</td>\n",
       "      <td>2021-06-28</td>\n",
       "      <td>376.30</td>\n",
       "    </tr>\n",
       "    <tr>\n",
       "      <th>7</th>\n",
       "      <td>12747</td>\n",
       "      <td>563949</td>\n",
       "      <td>2021-08-22</td>\n",
       "      <td>301.70</td>\n",
       "    </tr>\n",
       "    <tr>\n",
       "      <th>8</th>\n",
       "      <td>12747</td>\n",
       "      <td>569397</td>\n",
       "      <td>2021-10-04</td>\n",
       "      <td>675.38</td>\n",
       "    </tr>\n",
       "    <tr>\n",
       "      <th>9</th>\n",
       "      <td>12747</td>\n",
       "      <td>577104</td>\n",
       "      <td>2021-11-17</td>\n",
       "      <td>312.73</td>\n",
       "    </tr>\n",
       "    <tr>\n",
       "      <th>10</th>\n",
       "      <td>12747</td>\n",
       "      <td>581163</td>\n",
       "      <td>2021-12-07</td>\n",
       "      <td>438.50</td>\n",
       "    </tr>\n",
       "    <tr>\n",
       "      <th>11</th>\n",
       "      <td>12748</td>\n",
       "      <td>537136</td>\n",
       "      <td>2020-12-05</td>\n",
       "      <td>273.76</td>\n",
       "    </tr>\n",
       "    <tr>\n",
       "      <th>12</th>\n",
       "      <td>12748</td>\n",
       "      <td>537140</td>\n",
       "      <td>2020-12-05</td>\n",
       "      <td>70.42</td>\n",
       "    </tr>\n",
       "    <tr>\n",
       "      <th>13</th>\n",
       "      <td>12748</td>\n",
       "      <td>537142</td>\n",
       "      <td>2020-12-05</td>\n",
       "      <td>41.45</td>\n",
       "    </tr>\n",
       "    <tr>\n",
       "      <th>14</th>\n",
       "      <td>12748</td>\n",
       "      <td>537155</td>\n",
       "      <td>2020-12-05</td>\n",
       "      <td>75.64</td>\n",
       "    </tr>\n",
       "  </tbody>\n",
       "</table>\n",
       "</div>"
      ],
      "text/plain": [
       "    ID_cliente  CodigoCompra  DiaCompra  ValorTotal\n",
       "0        12747        537215 2020-12-05      358.56\n",
       "1        12747        538537 2020-12-13      347.71\n",
       "2        12747        541677 2021-01-20      303.04\n",
       "3        12747        545321 2021-03-01      310.78\n",
       "4        12747        551992 2021-05-05      442.96\n",
       "5        12747        554549 2021-05-25      328.35\n",
       "6        12747        558265 2021-06-28      376.30\n",
       "7        12747        563949 2021-08-22      301.70\n",
       "8        12747        569397 2021-10-04      675.38\n",
       "9        12747        577104 2021-11-17      312.73\n",
       "10       12747        581163 2021-12-07      438.50\n",
       "11       12748        537136 2020-12-05      273.76\n",
       "12       12748        537140 2020-12-05       70.42\n",
       "13       12748        537142 2020-12-05       41.45\n",
       "14       12748        537155 2020-12-05       75.64"
      ]
     },
     "execution_count": 91,
     "metadata": {},
     "output_type": "execute_result"
    }
   ],
   "source": [
    "df_compras.head(15)"
   ]
  },
  {
   "cell_type": "code",
   "execution_count": 92,
   "metadata": {
    "_uuid": "1b682a23d7ace26d73c691ac95a975dfd6f588c5"
   },
   "outputs": [
    {
     "data": {
      "text/html": [
       "<div>\n",
       "<style scoped>\n",
       "    .dataframe tbody tr th:only-of-type {\n",
       "        vertical-align: middle;\n",
       "    }\n",
       "\n",
       "    .dataframe tbody tr th {\n",
       "        vertical-align: top;\n",
       "    }\n",
       "\n",
       "    .dataframe thead th {\n",
       "        text-align: right;\n",
       "    }\n",
       "</style>\n",
       "<table border=\"1\" class=\"dataframe\">\n",
       "  <thead>\n",
       "    <tr style=\"text-align: right;\">\n",
       "      <th></th>\n",
       "      <th>ID_cliente</th>\n",
       "      <th>Frequencia</th>\n",
       "    </tr>\n",
       "  </thead>\n",
       "  <tbody>\n",
       "    <tr>\n",
       "      <th>0</th>\n",
       "      <td>12747</td>\n",
       "      <td>11</td>\n",
       "    </tr>\n",
       "    <tr>\n",
       "      <th>1</th>\n",
       "      <td>12748</td>\n",
       "      <td>178</td>\n",
       "    </tr>\n",
       "    <tr>\n",
       "      <th>2</th>\n",
       "      <td>12749</td>\n",
       "      <td>5</td>\n",
       "    </tr>\n",
       "    <tr>\n",
       "      <th>3</th>\n",
       "      <td>12820</td>\n",
       "      <td>4</td>\n",
       "    </tr>\n",
       "    <tr>\n",
       "      <th>4</th>\n",
       "      <td>12821</td>\n",
       "      <td>1</td>\n",
       "    </tr>\n",
       "  </tbody>\n",
       "</table>\n",
       "</div>"
      ],
      "text/plain": [
       "   ID_cliente  Frequencia\n",
       "0       12747          11\n",
       "1       12748         178\n",
       "2       12749           5\n",
       "3       12820           4\n",
       "4       12821           1"
      ]
     },
     "execution_count": 92,
     "metadata": {},
     "output_type": "execute_result"
    }
   ],
   "source": [
    "df_frequencia = df_compras[['ID_cliente', 'CodigoCompra'\n",
    "                            ]].groupby('ID_cliente').count().reset_index()\n",
    "df_frequencia.columns = ['ID_cliente', 'Frequencia']\n",
    "df_frequencia.head()"
   ]
  },
  {
   "cell_type": "markdown",
   "metadata": {
    "_uuid": "f676ce29bcbe49aeb73de6706ab1e7eb954172ff"
   },
   "source": [
    "## Valor"
   ]
  },
  {
   "cell_type": "markdown",
   "metadata": {
    "_uuid": "9c0b5a6c58b1ab515d3ac34738733d5e2a1729af"
   },
   "source": [
    "**Quanto que cada cliente gastou no periodo?**"
   ]
  },
  {
   "cell_type": "code",
   "execution_count": 93,
   "metadata": {
    "_uuid": "b95ce8a5cdbb3e5a4c199c8f338cfbce19ed8266"
   },
   "outputs": [
    {
     "data": {
      "text/html": [
       "<div>\n",
       "<style scoped>\n",
       "    .dataframe tbody tr th:only-of-type {\n",
       "        vertical-align: middle;\n",
       "    }\n",
       "\n",
       "    .dataframe tbody tr th {\n",
       "        vertical-align: top;\n",
       "    }\n",
       "\n",
       "    .dataframe thead th {\n",
       "        text-align: right;\n",
       "    }\n",
       "</style>\n",
       "<table border=\"1\" class=\"dataframe\">\n",
       "  <thead>\n",
       "    <tr style=\"text-align: right;\">\n",
       "      <th></th>\n",
       "      <th>ID_cliente</th>\n",
       "      <th>Valor</th>\n",
       "    </tr>\n",
       "  </thead>\n",
       "  <tbody>\n",
       "    <tr>\n",
       "      <th>0</th>\n",
       "      <td>12747</td>\n",
       "      <td>4196.01</td>\n",
       "    </tr>\n",
       "    <tr>\n",
       "      <th>1</th>\n",
       "      <td>12748</td>\n",
       "      <td>31533.04</td>\n",
       "    </tr>\n",
       "    <tr>\n",
       "      <th>2</th>\n",
       "      <td>12749</td>\n",
       "      <td>4090.88</td>\n",
       "    </tr>\n",
       "    <tr>\n",
       "      <th>3</th>\n",
       "      <td>12820</td>\n",
       "      <td>942.34</td>\n",
       "    </tr>\n",
       "    <tr>\n",
       "      <th>4</th>\n",
       "      <td>12821</td>\n",
       "      <td>92.72</td>\n",
       "    </tr>\n",
       "  </tbody>\n",
       "</table>\n",
       "</div>"
      ],
      "text/plain": [
       "   ID_cliente     Valor\n",
       "0       12747   4196.01\n",
       "1       12748  31533.04\n",
       "2       12749   4090.88\n",
       "3       12820    942.34\n",
       "4       12821     92.72"
      ]
     },
     "execution_count": 93,
     "metadata": {},
     "output_type": "execute_result"
    }
   ],
   "source": [
    "df_valor = df_compras[['ID_cliente', 'ValorTotal'\n",
    "                       ]].groupby('ID_cliente').sum().reset_index()\n",
    "df_valor.columns = ['ID_cliente', 'Valor']\n",
    "df_valor.head()"
   ]
  },
  {
   "cell_type": "markdown",
   "metadata": {
    "_uuid": "55ffbc87d562083d6c8ed174bfa751b1a84119b9"
   },
   "source": [
    "## Criando a tabela RFV"
   ]
  },
  {
   "cell_type": "code",
   "execution_count": 94,
   "metadata": {
    "_uuid": "3a690db35fe721345dfd4dd625cdfaa9fffe96ee"
   },
   "outputs": [
    {
     "data": {
      "text/html": [
       "<div>\n",
       "<style scoped>\n",
       "    .dataframe tbody tr th:only-of-type {\n",
       "        vertical-align: middle;\n",
       "    }\n",
       "\n",
       "    .dataframe tbody tr th {\n",
       "        vertical-align: top;\n",
       "    }\n",
       "\n",
       "    .dataframe thead th {\n",
       "        text-align: right;\n",
       "    }\n",
       "</style>\n",
       "<table border=\"1\" class=\"dataframe\">\n",
       "  <thead>\n",
       "    <tr style=\"text-align: right;\">\n",
       "      <th></th>\n",
       "      <th>ID_cliente</th>\n",
       "      <th>Recencia</th>\n",
       "      <th>Frequencia</th>\n",
       "    </tr>\n",
       "  </thead>\n",
       "  <tbody>\n",
       "    <tr>\n",
       "      <th>0</th>\n",
       "      <td>12747</td>\n",
       "      <td>2</td>\n",
       "      <td>11</td>\n",
       "    </tr>\n",
       "    <tr>\n",
       "      <th>1</th>\n",
       "      <td>12748</td>\n",
       "      <td>0</td>\n",
       "      <td>178</td>\n",
       "    </tr>\n",
       "    <tr>\n",
       "      <th>2</th>\n",
       "      <td>12749</td>\n",
       "      <td>3</td>\n",
       "      <td>5</td>\n",
       "    </tr>\n",
       "    <tr>\n",
       "      <th>3</th>\n",
       "      <td>12820</td>\n",
       "      <td>3</td>\n",
       "      <td>4</td>\n",
       "    </tr>\n",
       "    <tr>\n",
       "      <th>4</th>\n",
       "      <td>12821</td>\n",
       "      <td>214</td>\n",
       "      <td>1</td>\n",
       "    </tr>\n",
       "  </tbody>\n",
       "</table>\n",
       "</div>"
      ],
      "text/plain": [
       "   ID_cliente  Recencia  Frequencia\n",
       "0       12747         2          11\n",
       "1       12748         0         178\n",
       "2       12749         3           5\n",
       "3       12820         3           4\n",
       "4       12821       214           1"
      ]
     },
     "execution_count": 94,
     "metadata": {},
     "output_type": "execute_result"
    }
   ],
   "source": [
    "df_RF = df_recencia.merge(df_frequencia, on='ID_cliente')\n",
    "df_RF.head()"
   ]
  },
  {
   "cell_type": "code",
   "execution_count": 95,
   "metadata": {
    "_uuid": "438c0e79c90e4abc8579e4d007e89366e9105bf0"
   },
   "outputs": [
    {
     "data": {
      "text/html": [
       "<div>\n",
       "<style scoped>\n",
       "    .dataframe tbody tr th:only-of-type {\n",
       "        vertical-align: middle;\n",
       "    }\n",
       "\n",
       "    .dataframe tbody tr th {\n",
       "        vertical-align: top;\n",
       "    }\n",
       "\n",
       "    .dataframe thead th {\n",
       "        text-align: right;\n",
       "    }\n",
       "</style>\n",
       "<table border=\"1\" class=\"dataframe\">\n",
       "  <thead>\n",
       "    <tr style=\"text-align: right;\">\n",
       "      <th></th>\n",
       "      <th>Recencia</th>\n",
       "      <th>Frequencia</th>\n",
       "      <th>Valor</th>\n",
       "    </tr>\n",
       "    <tr>\n",
       "      <th>ID_cliente</th>\n",
       "      <th></th>\n",
       "      <th></th>\n",
       "      <th></th>\n",
       "    </tr>\n",
       "  </thead>\n",
       "  <tbody>\n",
       "    <tr>\n",
       "      <th>12747</th>\n",
       "      <td>2</td>\n",
       "      <td>11</td>\n",
       "      <td>4196.01</td>\n",
       "    </tr>\n",
       "    <tr>\n",
       "      <th>12748</th>\n",
       "      <td>0</td>\n",
       "      <td>178</td>\n",
       "      <td>31533.04</td>\n",
       "    </tr>\n",
       "    <tr>\n",
       "      <th>12749</th>\n",
       "      <td>3</td>\n",
       "      <td>5</td>\n",
       "      <td>4090.88</td>\n",
       "    </tr>\n",
       "    <tr>\n",
       "      <th>12820</th>\n",
       "      <td>3</td>\n",
       "      <td>4</td>\n",
       "      <td>942.34</td>\n",
       "    </tr>\n",
       "    <tr>\n",
       "      <th>12821</th>\n",
       "      <td>214</td>\n",
       "      <td>1</td>\n",
       "      <td>92.72</td>\n",
       "    </tr>\n",
       "  </tbody>\n",
       "</table>\n",
       "</div>"
      ],
      "text/plain": [
       "            Recencia  Frequencia     Valor\n",
       "ID_cliente                                \n",
       "12747              2          11   4196.01\n",
       "12748              0         178  31533.04\n",
       "12749              3           5   4090.88\n",
       "12820              3           4    942.34\n",
       "12821            214           1     92.72"
      ]
     },
     "execution_count": 95,
     "metadata": {},
     "output_type": "execute_result"
    }
   ],
   "source": [
    "df_RFV = df_RF.merge(df_valor, on='ID_cliente')\n",
    "df_RFV.set_index('ID_cliente', inplace=True)\n",
    "df_RFV.head()"
   ]
  },
  {
   "cell_type": "markdown",
   "metadata": {
    "_uuid": "5b4b281a23d455056581cb1d58275b36e0a58990"
   },
   "source": [
    "## Segmentação de clientes utilizando o RFV"
   ]
  },
  {
   "cell_type": "markdown",
   "metadata": {
    "_uuid": "ad8f715fe3b5bd0380386420f62c5fee233c39c2"
   },
   "source": [
    "Um jeito de segmentar os clientes é criando quartis para cada componente do RFV, sendo que o melhor quartil é chamado de 'A', o segundo melhor quartil de 'B', o terceiro melhor de 'C' e o pior de 'D'. O melhor e o pior depende da componente. Po exemplo, quanto menor a recência melhor é o cliente (pois ele comprou com a gente tem pouco tempo) logo o menor quartil seria classificado como 'A', já pra componente frêquencia a lógica se inverte, ou seja, quanto maior a frêquencia do cliente comprar com a gente, melhor ele/a é, logo, o maior quartil recebe a letra 'A'.\n",
    "\n",
    "Se a gente tiver interessado em mais ou menos classes, basta a gente aumentar ou diminuir o número de quantils pra cada componente."
   ]
  },
  {
   "cell_type": "markdown",
   "metadata": {
    "_uuid": "fa4f401ebb36f68747f0315db84bb65bb8054a2e"
   },
   "source": [
    "### Quartis para o RFV"
   ]
  },
  {
   "cell_type": "code",
   "execution_count": 96,
   "metadata": {
    "_uuid": "d3c0d797ed33433723b8c22d98134e0da2360f13"
   },
   "outputs": [
    {
     "data": {
      "text/html": [
       "<div>\n",
       "<style scoped>\n",
       "    .dataframe tbody tr th:only-of-type {\n",
       "        vertical-align: middle;\n",
       "    }\n",
       "\n",
       "    .dataframe tbody tr th {\n",
       "        vertical-align: top;\n",
       "    }\n",
       "\n",
       "    .dataframe thead th {\n",
       "        text-align: right;\n",
       "    }\n",
       "</style>\n",
       "<table border=\"1\" class=\"dataframe\">\n",
       "  <thead>\n",
       "    <tr style=\"text-align: right;\">\n",
       "      <th></th>\n",
       "      <th>Recencia</th>\n",
       "      <th>Frequencia</th>\n",
       "      <th>Valor</th>\n",
       "    </tr>\n",
       "  </thead>\n",
       "  <tbody>\n",
       "    <tr>\n",
       "      <th>0.25</th>\n",
       "      <td>17.0</td>\n",
       "      <td>1.0</td>\n",
       "      <td>299.705</td>\n",
       "    </tr>\n",
       "    <tr>\n",
       "      <th>0.50</th>\n",
       "      <td>50.0</td>\n",
       "      <td>2.0</td>\n",
       "      <td>643.555</td>\n",
       "    </tr>\n",
       "    <tr>\n",
       "      <th>0.75</th>\n",
       "      <td>143.0</td>\n",
       "      <td>5.0</td>\n",
       "      <td>1533.600</td>\n",
       "    </tr>\n",
       "  </tbody>\n",
       "</table>\n",
       "</div>"
      ],
      "text/plain": [
       "      Recencia  Frequencia     Valor\n",
       "0.25      17.0         1.0   299.705\n",
       "0.50      50.0         2.0   643.555\n",
       "0.75     143.0         5.0  1533.600"
      ]
     },
     "execution_count": 96,
     "metadata": {},
     "output_type": "execute_result"
    }
   ],
   "source": [
    "quartis = df_RFV.quantile(q=[0.25, 0.5, 0.75])\n",
    "quartis"
   ]
  },
  {
   "cell_type": "code",
   "execution_count": 97,
   "metadata": {
    "_uuid": "490b462479549721728b54abeffe461da4b14414"
   },
   "outputs": [
    {
     "data": {
      "text/plain": [
       "{'Recencia': {0.25: 17.0, 0.5: 50.0, 0.75: 143.0},\n",
       " 'Frequencia': {0.25: 1.0, 0.5: 2.0, 0.75: 5.0},\n",
       " 'Valor': {0.25: 299.70500000000004, 0.5: 643.555, 0.75: 1533.6}}"
      ]
     },
     "execution_count": 97,
     "metadata": {},
     "output_type": "execute_result"
    }
   ],
   "source": [
    "quartis.to_dict()"
   ]
  },
  {
   "cell_type": "markdown",
   "metadata": {
    "_uuid": "ea328b04e3754e58a50a6ed3e6b7167f06a87850"
   },
   "source": [
    "### Criando os segmentos"
   ]
  },
  {
   "cell_type": "code",
   "execution_count": 98,
   "metadata": {
    "_uuid": "9f64510c0092214e60d8b8d75f1cbf5832ab130c"
   },
   "outputs": [],
   "source": [
    "def recencia_class(x, r, q_dict):\n",
    "    \"\"\"Classifica como melhor o menor quartil \n",
    "       x = valor da linha,\n",
    "       r = recencia,\n",
    "       q_dict = quartil dicionario   \n",
    "    \"\"\"\n",
    "    if x <= q_dict[r][0.25]:\n",
    "        return 'A'\n",
    "    elif x <= q_dict[r][0.50]:\n",
    "        return 'B'\n",
    "    elif x <= q_dict[r][0.75]:\n",
    "        return 'C'\n",
    "    else:\n",
    "        return 'D'\n",
    "\n",
    "\n",
    "def freq_val_class(x, fv, q_dict):\n",
    "    \"\"\"Classifica como melhor o maior quartil \n",
    "       x = valor da linha,\n",
    "       fv = frequencia ou valor,\n",
    "       q_dict = quartil dicionario   \n",
    "    \"\"\"\n",
    "    if x <= q_dict[fv][0.25]:\n",
    "        return 'D'\n",
    "    elif x <= q_dict[fv][0.50]:\n",
    "        return 'C'\n",
    "    elif x <= q_dict[fv][0.75]:\n",
    "        return 'B'\n",
    "    else:\n",
    "        return 'A'\n",
    "\n",
    "df_RFV['R_quartil'] = df_RFV['Recencia'].apply(recencia_class,\n",
    "                                                args=('Recencia', quartis))\n",
    "df_RFV['F_quartil'] = df_RFV['Frequencia'].apply(freq_val_class,\n",
    "                                                  args=('Frequencia', quartis))\n",
    "df_RFV['V_quartil'] = df_RFV['Valor'].apply(freq_val_class,\n",
    "                                             args=('Valor', quartis))"
   ]
  },
  {
   "cell_type": "code",
   "execution_count": 99,
   "metadata": {
    "_uuid": "abf9b0672f0a0dbc6350dccb8261d4eeab5e3843"
   },
   "outputs": [
    {
     "data": {
      "text/html": [
       "<div>\n",
       "<style scoped>\n",
       "    .dataframe tbody tr th:only-of-type {\n",
       "        vertical-align: middle;\n",
       "    }\n",
       "\n",
       "    .dataframe tbody tr th {\n",
       "        vertical-align: top;\n",
       "    }\n",
       "\n",
       "    .dataframe thead th {\n",
       "        text-align: right;\n",
       "    }\n",
       "</style>\n",
       "<table border=\"1\" class=\"dataframe\">\n",
       "  <thead>\n",
       "    <tr style=\"text-align: right;\">\n",
       "      <th></th>\n",
       "      <th>Recencia</th>\n",
       "      <th>Frequencia</th>\n",
       "      <th>Valor</th>\n",
       "      <th>R_quartil</th>\n",
       "      <th>F_quartil</th>\n",
       "      <th>V_quartil</th>\n",
       "      <th>RFV_Score</th>\n",
       "    </tr>\n",
       "    <tr>\n",
       "      <th>ID_cliente</th>\n",
       "      <th></th>\n",
       "      <th></th>\n",
       "      <th></th>\n",
       "      <th></th>\n",
       "      <th></th>\n",
       "      <th></th>\n",
       "      <th></th>\n",
       "    </tr>\n",
       "  </thead>\n",
       "  <tbody>\n",
       "    <tr>\n",
       "      <th>12747</th>\n",
       "      <td>2</td>\n",
       "      <td>11</td>\n",
       "      <td>4196.01</td>\n",
       "      <td>A</td>\n",
       "      <td>A</td>\n",
       "      <td>A</td>\n",
       "      <td>AAA</td>\n",
       "    </tr>\n",
       "    <tr>\n",
       "      <th>12748</th>\n",
       "      <td>0</td>\n",
       "      <td>178</td>\n",
       "      <td>31533.04</td>\n",
       "      <td>A</td>\n",
       "      <td>A</td>\n",
       "      <td>A</td>\n",
       "      <td>AAA</td>\n",
       "    </tr>\n",
       "    <tr>\n",
       "      <th>12749</th>\n",
       "      <td>3</td>\n",
       "      <td>5</td>\n",
       "      <td>4090.88</td>\n",
       "      <td>A</td>\n",
       "      <td>B</td>\n",
       "      <td>A</td>\n",
       "      <td>ABA</td>\n",
       "    </tr>\n",
       "    <tr>\n",
       "      <th>12820</th>\n",
       "      <td>3</td>\n",
       "      <td>4</td>\n",
       "      <td>942.34</td>\n",
       "      <td>A</td>\n",
       "      <td>B</td>\n",
       "      <td>B</td>\n",
       "      <td>ABB</td>\n",
       "    </tr>\n",
       "    <tr>\n",
       "      <th>12821</th>\n",
       "      <td>214</td>\n",
       "      <td>1</td>\n",
       "      <td>92.72</td>\n",
       "      <td>D</td>\n",
       "      <td>D</td>\n",
       "      <td>D</td>\n",
       "      <td>DDD</td>\n",
       "    </tr>\n",
       "  </tbody>\n",
       "</table>\n",
       "</div>"
      ],
      "text/plain": [
       "            Recencia  Frequencia     Valor R_quartil F_quartil V_quartil  \\\n",
       "ID_cliente                                                                 \n",
       "12747              2          11   4196.01         A         A         A   \n",
       "12748              0         178  31533.04         A         A         A   \n",
       "12749              3           5   4090.88         A         B         A   \n",
       "12820              3           4    942.34         A         B         B   \n",
       "12821            214           1     92.72         D         D         D   \n",
       "\n",
       "           RFV_Score  \n",
       "ID_cliente            \n",
       "12747            AAA  \n",
       "12748            AAA  \n",
       "12749            ABA  \n",
       "12820            ABB  \n",
       "12821            DDD  "
      ]
     },
     "execution_count": 99,
     "metadata": {},
     "output_type": "execute_result"
    }
   ],
   "source": [
    "df_RFV.head()\n",
    "\n",
    "df_RFV['RFV_Score'] = (df_RFV.R_quartil + df_RFV.F_quartil +\n",
    "                       df_RFV.V_quartil)\n",
    "df_RFV.head()"
   ]
  },
  {
   "cell_type": "code",
   "execution_count": 100,
   "metadata": {
    "scrolled": true
   },
   "outputs": [
    {
     "data": {
      "text/plain": [
       "RFV_Score\n",
       "AAA    417\n",
       "DDD    402\n",
       "DDC    212\n",
       "BBB    187\n",
       "CDD    186\n",
       "BAA    166\n",
       "ABB    153\n",
       "CDC    140\n",
       "BDD    139\n",
       "CBB    133\n",
       "CBA     96\n",
       "ABA     87\n",
       "DCC     87\n",
       "BDC     85\n",
       "CCB     83\n",
       "BBA     81\n",
       "BCC     79\n",
       "CCC     79\n",
       "ACC     65\n",
       "BCB     65\n",
       "CAA     63\n",
       "CBC     60\n",
       "DCB     57\n",
       "DCD     54\n",
       "ADD     53\n",
       "BBC     53\n",
       "AAB     47\n",
       "ACB     46\n",
       "CDB     43\n",
       "BCD     43\n",
       "ABC     42\n",
       "DBB     41\n",
       "DBC     37\n",
       "DDB     36\n",
       "CCD     35\n",
       "BAB     35\n",
       "ADC     32\n",
       "ACD     32\n",
       "CAB     23\n",
       "BDB     20\n",
       "DAA     14\n",
       "DBA     13\n",
       "BCA     11\n",
       "CCA     10\n",
       "CBD     10\n",
       "DBD      9\n",
       "ABD      7\n",
       "DCA      6\n",
       "CDA      6\n",
       "BBD      5\n",
       "DDA      3\n",
       "ADB      3\n",
       "DAB      3\n",
       "AAC      3\n",
       "ACA      2\n",
       "BDA      1\n",
       "CAC      1\n",
       "AAD      1\n",
       "Name: count, dtype: int64"
      ]
     },
     "execution_count": 100,
     "metadata": {},
     "output_type": "execute_result"
    }
   ],
   "source": [
    "df_RFV['RFV_Score'].value_counts()"
   ]
  },
  {
   "cell_type": "code",
   "execution_count": 101,
   "metadata": {},
   "outputs": [
    {
     "data": {
      "text/html": [
       "<div>\n",
       "<style scoped>\n",
       "    .dataframe tbody tr th:only-of-type {\n",
       "        vertical-align: middle;\n",
       "    }\n",
       "\n",
       "    .dataframe tbody tr th {\n",
       "        vertical-align: top;\n",
       "    }\n",
       "\n",
       "    .dataframe thead th {\n",
       "        text-align: right;\n",
       "    }\n",
       "</style>\n",
       "<table border=\"1\" class=\"dataframe\">\n",
       "  <thead>\n",
       "    <tr style=\"text-align: right;\">\n",
       "      <th></th>\n",
       "      <th>Recencia</th>\n",
       "      <th>Frequencia</th>\n",
       "      <th>Valor</th>\n",
       "    </tr>\n",
       "  </thead>\n",
       "  <tbody>\n",
       "    <tr>\n",
       "      <th>0.25</th>\n",
       "      <td>17.0</td>\n",
       "      <td>1.0</td>\n",
       "      <td>299.705</td>\n",
       "    </tr>\n",
       "    <tr>\n",
       "      <th>0.50</th>\n",
       "      <td>50.0</td>\n",
       "      <td>2.0</td>\n",
       "      <td>643.555</td>\n",
       "    </tr>\n",
       "    <tr>\n",
       "      <th>0.75</th>\n",
       "      <td>143.0</td>\n",
       "      <td>5.0</td>\n",
       "      <td>1533.600</td>\n",
       "    </tr>\n",
       "  </tbody>\n",
       "</table>\n",
       "</div>"
      ],
      "text/plain": [
       "      Recencia  Frequencia     Valor\n",
       "0.25      17.0         1.0   299.705\n",
       "0.50      50.0         2.0   643.555\n",
       "0.75     143.0         5.0  1533.600"
      ]
     },
     "execution_count": 101,
     "metadata": {},
     "output_type": "execute_result"
    }
   ],
   "source": [
    "quartis"
   ]
  },
  {
   "cell_type": "code",
   "execution_count": 102,
   "metadata": {},
   "outputs": [
    {
     "data": {
      "text/html": [
       "<div>\n",
       "<style scoped>\n",
       "    .dataframe tbody tr th:only-of-type {\n",
       "        vertical-align: middle;\n",
       "    }\n",
       "\n",
       "    .dataframe tbody tr th {\n",
       "        vertical-align: top;\n",
       "    }\n",
       "\n",
       "    .dataframe thead th {\n",
       "        text-align: right;\n",
       "    }\n",
       "</style>\n",
       "<table border=\"1\" class=\"dataframe\">\n",
       "  <thead>\n",
       "    <tr style=\"text-align: right;\">\n",
       "      <th></th>\n",
       "      <th>Recencia</th>\n",
       "      <th>Frequencia</th>\n",
       "      <th>Valor</th>\n",
       "      <th>R_quartil</th>\n",
       "      <th>F_quartil</th>\n",
       "      <th>V_quartil</th>\n",
       "      <th>RFV_Score</th>\n",
       "    </tr>\n",
       "    <tr>\n",
       "      <th>ID_cliente</th>\n",
       "      <th></th>\n",
       "      <th></th>\n",
       "      <th></th>\n",
       "      <th></th>\n",
       "      <th></th>\n",
       "      <th></th>\n",
       "      <th></th>\n",
       "    </tr>\n",
       "  </thead>\n",
       "  <tbody>\n",
       "    <tr>\n",
       "      <th>12747</th>\n",
       "      <td>2</td>\n",
       "      <td>11</td>\n",
       "      <td>4196.01</td>\n",
       "      <td>A</td>\n",
       "      <td>A</td>\n",
       "      <td>A</td>\n",
       "      <td>AAA</td>\n",
       "    </tr>\n",
       "    <tr>\n",
       "      <th>12748</th>\n",
       "      <td>0</td>\n",
       "      <td>178</td>\n",
       "      <td>31533.04</td>\n",
       "      <td>A</td>\n",
       "      <td>A</td>\n",
       "      <td>A</td>\n",
       "      <td>AAA</td>\n",
       "    </tr>\n",
       "    <tr>\n",
       "      <th>12749</th>\n",
       "      <td>3</td>\n",
       "      <td>5</td>\n",
       "      <td>4090.88</td>\n",
       "      <td>A</td>\n",
       "      <td>B</td>\n",
       "      <td>A</td>\n",
       "      <td>ABA</td>\n",
       "    </tr>\n",
       "    <tr>\n",
       "      <th>12820</th>\n",
       "      <td>3</td>\n",
       "      <td>4</td>\n",
       "      <td>942.34</td>\n",
       "      <td>A</td>\n",
       "      <td>B</td>\n",
       "      <td>B</td>\n",
       "      <td>ABB</td>\n",
       "    </tr>\n",
       "    <tr>\n",
       "      <th>12821</th>\n",
       "      <td>214</td>\n",
       "      <td>1</td>\n",
       "      <td>92.72</td>\n",
       "      <td>D</td>\n",
       "      <td>D</td>\n",
       "      <td>D</td>\n",
       "      <td>DDD</td>\n",
       "    </tr>\n",
       "    <tr>\n",
       "      <th>...</th>\n",
       "      <td>...</td>\n",
       "      <td>...</td>\n",
       "      <td>...</td>\n",
       "      <td>...</td>\n",
       "      <td>...</td>\n",
       "      <td>...</td>\n",
       "      <td>...</td>\n",
       "    </tr>\n",
       "    <tr>\n",
       "      <th>18280</th>\n",
       "      <td>277</td>\n",
       "      <td>1</td>\n",
       "      <td>180.60</td>\n",
       "      <td>D</td>\n",
       "      <td>D</td>\n",
       "      <td>D</td>\n",
       "      <td>DDD</td>\n",
       "    </tr>\n",
       "    <tr>\n",
       "      <th>18281</th>\n",
       "      <td>180</td>\n",
       "      <td>1</td>\n",
       "      <td>80.82</td>\n",
       "      <td>D</td>\n",
       "      <td>D</td>\n",
       "      <td>D</td>\n",
       "      <td>DDD</td>\n",
       "    </tr>\n",
       "    <tr>\n",
       "      <th>18282</th>\n",
       "      <td>7</td>\n",
       "      <td>2</td>\n",
       "      <td>178.05</td>\n",
       "      <td>A</td>\n",
       "      <td>C</td>\n",
       "      <td>D</td>\n",
       "      <td>ACD</td>\n",
       "    </tr>\n",
       "    <tr>\n",
       "      <th>18283</th>\n",
       "      <td>3</td>\n",
       "      <td>14</td>\n",
       "      <td>2090.43</td>\n",
       "      <td>A</td>\n",
       "      <td>A</td>\n",
       "      <td>A</td>\n",
       "      <td>AAA</td>\n",
       "    </tr>\n",
       "    <tr>\n",
       "      <th>18287</th>\n",
       "      <td>42</td>\n",
       "      <td>3</td>\n",
       "      <td>1837.28</td>\n",
       "      <td>B</td>\n",
       "      <td>B</td>\n",
       "      <td>A</td>\n",
       "      <td>BBA</td>\n",
       "    </tr>\n",
       "  </tbody>\n",
       "</table>\n",
       "<p>3902 rows × 7 columns</p>\n",
       "</div>"
      ],
      "text/plain": [
       "            Recencia  Frequencia     Valor R_quartil F_quartil V_quartil  \\\n",
       "ID_cliente                                                                 \n",
       "12747              2          11   4196.01         A         A         A   \n",
       "12748              0         178  31533.04         A         A         A   \n",
       "12749              3           5   4090.88         A         B         A   \n",
       "12820              3           4    942.34         A         B         B   \n",
       "12821            214           1     92.72         D         D         D   \n",
       "...              ...         ...       ...       ...       ...       ...   \n",
       "18280            277           1    180.60         D         D         D   \n",
       "18281            180           1     80.82         D         D         D   \n",
       "18282              7           2    178.05         A         C         D   \n",
       "18283              3          14   2090.43         A         A         A   \n",
       "18287             42           3   1837.28         B         B         A   \n",
       "\n",
       "           RFV_Score  \n",
       "ID_cliente            \n",
       "12747            AAA  \n",
       "12748            AAA  \n",
       "12749            ABA  \n",
       "12820            ABB  \n",
       "12821            DDD  \n",
       "...              ...  \n",
       "18280            DDD  \n",
       "18281            DDD  \n",
       "18282            ACD  \n",
       "18283            AAA  \n",
       "18287            BBA  \n",
       "\n",
       "[3902 rows x 7 columns]"
      ]
     },
     "execution_count": 102,
     "metadata": {},
     "output_type": "execute_result"
    }
   ],
   "source": [
    "df_RFV"
   ]
  },
  {
   "cell_type": "code",
   "execution_count": 103,
   "metadata": {},
   "outputs": [],
   "source": [
    "variaveis = df_RFV.iloc[: , :-1].columns.values\n",
    "variaveis_quant = df_RFV.iloc[: , :3].columns.values\n",
    "variaveis_cat = df_RFV.iloc[:, 3:-1].columns.values"
   ]
  },
  {
   "cell_type": "code",
   "execution_count": 104,
   "metadata": {},
   "outputs": [
    {
     "data": {
      "text/html": [
       "<div>\n",
       "<style scoped>\n",
       "    .dataframe tbody tr th:only-of-type {\n",
       "        vertical-align: middle;\n",
       "    }\n",
       "\n",
       "    .dataframe tbody tr th {\n",
       "        vertical-align: top;\n",
       "    }\n",
       "\n",
       "    .dataframe thead th {\n",
       "        text-align: right;\n",
       "    }\n",
       "</style>\n",
       "<table border=\"1\" class=\"dataframe\">\n",
       "  <thead>\n",
       "    <tr style=\"text-align: right;\">\n",
       "      <th></th>\n",
       "      <th>Recencia</th>\n",
       "      <th>Frequencia</th>\n",
       "      <th>Valor</th>\n",
       "      <th>R_quartil</th>\n",
       "      <th>F_quartil</th>\n",
       "      <th>V_quartil</th>\n",
       "    </tr>\n",
       "  </thead>\n",
       "  <tbody>\n",
       "    <tr>\n",
       "      <th>0</th>\n",
       "      <td>-0.903303</td>\n",
       "      <td>1.029065</td>\n",
       "      <td>0.991646</td>\n",
       "      <td>A</td>\n",
       "      <td>A</td>\n",
       "      <td>A</td>\n",
       "    </tr>\n",
       "    <tr>\n",
       "      <th>1</th>\n",
       "      <td>-0.923350</td>\n",
       "      <td>26.055140</td>\n",
       "      <td>10.839744</td>\n",
       "      <td>A</td>\n",
       "      <td>A</td>\n",
       "      <td>A</td>\n",
       "    </tr>\n",
       "    <tr>\n",
       "      <th>2</th>\n",
       "      <td>-0.893280</td>\n",
       "      <td>0.129924</td>\n",
       "      <td>0.953773</td>\n",
       "      <td>A</td>\n",
       "      <td>B</td>\n",
       "      <td>A</td>\n",
       "    </tr>\n",
       "    <tr>\n",
       "      <th>3</th>\n",
       "      <td>-0.893280</td>\n",
       "      <td>-0.019932</td>\n",
       "      <td>-0.180481</td>\n",
       "      <td>A</td>\n",
       "      <td>B</td>\n",
       "      <td>B</td>\n",
       "    </tr>\n",
       "    <tr>\n",
       "      <th>4</th>\n",
       "      <td>1.221700</td>\n",
       "      <td>-0.469502</td>\n",
       "      <td>-0.486554</td>\n",
       "      <td>D</td>\n",
       "      <td>D</td>\n",
       "      <td>D</td>\n",
       "    </tr>\n",
       "  </tbody>\n",
       "</table>\n",
       "</div>"
      ],
      "text/plain": [
       "   Recencia  Frequencia      Valor R_quartil F_quartil V_quartil\n",
       "0 -0.903303    1.029065   0.991646         A         A         A\n",
       "1 -0.923350   26.055140  10.839744         A         A         A\n",
       "2 -0.893280    0.129924   0.953773         A         B         A\n",
       "3 -0.893280   -0.019932  -0.180481         A         B         B\n",
       "4  1.221700   -0.469502  -0.486554         D         D         D"
      ]
     },
     "execution_count": 104,
     "metadata": {},
     "output_type": "execute_result"
    }
   ],
   "source": [
    "df_pad = pd.DataFrame(StandardScaler().fit_transform(df_RFV[variaveis_quant]) , columns = df_RFV[variaveis_quant].columns)\n",
    "df_pad[variaveis_cat] = df_RFV[variaveis_cat].values\n",
    "df_pad.head()"
   ]
  },
  {
   "cell_type": "code",
   "execution_count": 106,
   "metadata": {},
   "outputs": [],
   "source": [
    "df_dummies = pd.get_dummies(df_pad[variaveis].dropna() , columns = variaveis_cat , dtype = int)"
   ]
  },
  {
   "cell_type": "code",
   "execution_count": 107,
   "metadata": {},
   "outputs": [
    {
     "data": {
      "text/html": [
       "<div>\n",
       "<style scoped>\n",
       "    .dataframe tbody tr th:only-of-type {\n",
       "        vertical-align: middle;\n",
       "    }\n",
       "\n",
       "    .dataframe tbody tr th {\n",
       "        vertical-align: top;\n",
       "    }\n",
       "\n",
       "    .dataframe thead th {\n",
       "        text-align: right;\n",
       "    }\n",
       "</style>\n",
       "<table border=\"1\" class=\"dataframe\">\n",
       "  <thead>\n",
       "    <tr style=\"text-align: right;\">\n",
       "      <th></th>\n",
       "      <th>Recencia</th>\n",
       "      <th>Frequencia</th>\n",
       "      <th>Valor</th>\n",
       "      <th>R_quartil_A</th>\n",
       "      <th>R_quartil_B</th>\n",
       "      <th>R_quartil_C</th>\n",
       "      <th>R_quartil_D</th>\n",
       "      <th>F_quartil_A</th>\n",
       "      <th>F_quartil_B</th>\n",
       "      <th>F_quartil_C</th>\n",
       "      <th>F_quartil_D</th>\n",
       "      <th>V_quartil_A</th>\n",
       "      <th>V_quartil_B</th>\n",
       "      <th>V_quartil_C</th>\n",
       "      <th>V_quartil_D</th>\n",
       "    </tr>\n",
       "  </thead>\n",
       "  <tbody>\n",
       "    <tr>\n",
       "      <th>0</th>\n",
       "      <td>-0.903303</td>\n",
       "      <td>1.029065</td>\n",
       "      <td>0.991646</td>\n",
       "      <td>1</td>\n",
       "      <td>0</td>\n",
       "      <td>0</td>\n",
       "      <td>0</td>\n",
       "      <td>1</td>\n",
       "      <td>0</td>\n",
       "      <td>0</td>\n",
       "      <td>0</td>\n",
       "      <td>1</td>\n",
       "      <td>0</td>\n",
       "      <td>0</td>\n",
       "      <td>0</td>\n",
       "    </tr>\n",
       "    <tr>\n",
       "      <th>1</th>\n",
       "      <td>-0.923350</td>\n",
       "      <td>26.055140</td>\n",
       "      <td>10.839744</td>\n",
       "      <td>1</td>\n",
       "      <td>0</td>\n",
       "      <td>0</td>\n",
       "      <td>0</td>\n",
       "      <td>1</td>\n",
       "      <td>0</td>\n",
       "      <td>0</td>\n",
       "      <td>0</td>\n",
       "      <td>1</td>\n",
       "      <td>0</td>\n",
       "      <td>0</td>\n",
       "      <td>0</td>\n",
       "    </tr>\n",
       "    <tr>\n",
       "      <th>2</th>\n",
       "      <td>-0.893280</td>\n",
       "      <td>0.129924</td>\n",
       "      <td>0.953773</td>\n",
       "      <td>1</td>\n",
       "      <td>0</td>\n",
       "      <td>0</td>\n",
       "      <td>0</td>\n",
       "      <td>0</td>\n",
       "      <td>1</td>\n",
       "      <td>0</td>\n",
       "      <td>0</td>\n",
       "      <td>1</td>\n",
       "      <td>0</td>\n",
       "      <td>0</td>\n",
       "      <td>0</td>\n",
       "    </tr>\n",
       "    <tr>\n",
       "      <th>3</th>\n",
       "      <td>-0.893280</td>\n",
       "      <td>-0.019932</td>\n",
       "      <td>-0.180481</td>\n",
       "      <td>1</td>\n",
       "      <td>0</td>\n",
       "      <td>0</td>\n",
       "      <td>0</td>\n",
       "      <td>0</td>\n",
       "      <td>1</td>\n",
       "      <td>0</td>\n",
       "      <td>0</td>\n",
       "      <td>0</td>\n",
       "      <td>1</td>\n",
       "      <td>0</td>\n",
       "      <td>0</td>\n",
       "    </tr>\n",
       "    <tr>\n",
       "      <th>4</th>\n",
       "      <td>1.221700</td>\n",
       "      <td>-0.469502</td>\n",
       "      <td>-0.486554</td>\n",
       "      <td>0</td>\n",
       "      <td>0</td>\n",
       "      <td>0</td>\n",
       "      <td>1</td>\n",
       "      <td>0</td>\n",
       "      <td>0</td>\n",
       "      <td>0</td>\n",
       "      <td>1</td>\n",
       "      <td>0</td>\n",
       "      <td>0</td>\n",
       "      <td>0</td>\n",
       "      <td>1</td>\n",
       "    </tr>\n",
       "    <tr>\n",
       "      <th>...</th>\n",
       "      <td>...</td>\n",
       "      <td>...</td>\n",
       "      <td>...</td>\n",
       "      <td>...</td>\n",
       "      <td>...</td>\n",
       "      <td>...</td>\n",
       "      <td>...</td>\n",
       "      <td>...</td>\n",
       "      <td>...</td>\n",
       "      <td>...</td>\n",
       "      <td>...</td>\n",
       "      <td>...</td>\n",
       "      <td>...</td>\n",
       "      <td>...</td>\n",
       "      <td>...</td>\n",
       "    </tr>\n",
       "    <tr>\n",
       "      <th>3897</th>\n",
       "      <td>1.853187</td>\n",
       "      <td>-0.469502</td>\n",
       "      <td>-0.454896</td>\n",
       "      <td>0</td>\n",
       "      <td>0</td>\n",
       "      <td>0</td>\n",
       "      <td>1</td>\n",
       "      <td>0</td>\n",
       "      <td>0</td>\n",
       "      <td>0</td>\n",
       "      <td>1</td>\n",
       "      <td>0</td>\n",
       "      <td>0</td>\n",
       "      <td>0</td>\n",
       "      <td>1</td>\n",
       "    </tr>\n",
       "    <tr>\n",
       "      <th>3898</th>\n",
       "      <td>0.880898</td>\n",
       "      <td>-0.469502</td>\n",
       "      <td>-0.490841</td>\n",
       "      <td>0</td>\n",
       "      <td>0</td>\n",
       "      <td>0</td>\n",
       "      <td>1</td>\n",
       "      <td>0</td>\n",
       "      <td>0</td>\n",
       "      <td>0</td>\n",
       "      <td>1</td>\n",
       "      <td>0</td>\n",
       "      <td>0</td>\n",
       "      <td>0</td>\n",
       "      <td>1</td>\n",
       "    </tr>\n",
       "    <tr>\n",
       "      <th>3899</th>\n",
       "      <td>-0.853185</td>\n",
       "      <td>-0.319646</td>\n",
       "      <td>-0.455814</td>\n",
       "      <td>1</td>\n",
       "      <td>0</td>\n",
       "      <td>0</td>\n",
       "      <td>0</td>\n",
       "      <td>0</td>\n",
       "      <td>0</td>\n",
       "      <td>1</td>\n",
       "      <td>0</td>\n",
       "      <td>0</td>\n",
       "      <td>0</td>\n",
       "      <td>0</td>\n",
       "      <td>1</td>\n",
       "    </tr>\n",
       "    <tr>\n",
       "      <th>3900</th>\n",
       "      <td>-0.893280</td>\n",
       "      <td>1.478635</td>\n",
       "      <td>0.233116</td>\n",
       "      <td>1</td>\n",
       "      <td>0</td>\n",
       "      <td>0</td>\n",
       "      <td>0</td>\n",
       "      <td>1</td>\n",
       "      <td>0</td>\n",
       "      <td>0</td>\n",
       "      <td>0</td>\n",
       "      <td>1</td>\n",
       "      <td>0</td>\n",
       "      <td>0</td>\n",
       "      <td>0</td>\n",
       "    </tr>\n",
       "    <tr>\n",
       "      <th>3901</th>\n",
       "      <td>-0.502359</td>\n",
       "      <td>-0.169789</td>\n",
       "      <td>0.141919</td>\n",
       "      <td>0</td>\n",
       "      <td>1</td>\n",
       "      <td>0</td>\n",
       "      <td>0</td>\n",
       "      <td>0</td>\n",
       "      <td>1</td>\n",
       "      <td>0</td>\n",
       "      <td>0</td>\n",
       "      <td>1</td>\n",
       "      <td>0</td>\n",
       "      <td>0</td>\n",
       "      <td>0</td>\n",
       "    </tr>\n",
       "  </tbody>\n",
       "</table>\n",
       "<p>3902 rows × 15 columns</p>\n",
       "</div>"
      ],
      "text/plain": [
       "      Recencia  Frequencia      Valor  R_quartil_A  R_quartil_B  R_quartil_C  \\\n",
       "0    -0.903303    1.029065   0.991646            1            0            0   \n",
       "1    -0.923350   26.055140  10.839744            1            0            0   \n",
       "2    -0.893280    0.129924   0.953773            1            0            0   \n",
       "3    -0.893280   -0.019932  -0.180481            1            0            0   \n",
       "4     1.221700   -0.469502  -0.486554            0            0            0   \n",
       "...        ...         ...        ...          ...          ...          ...   \n",
       "3897  1.853187   -0.469502  -0.454896            0            0            0   \n",
       "3898  0.880898   -0.469502  -0.490841            0            0            0   \n",
       "3899 -0.853185   -0.319646  -0.455814            1            0            0   \n",
       "3900 -0.893280    1.478635   0.233116            1            0            0   \n",
       "3901 -0.502359   -0.169789   0.141919            0            1            0   \n",
       "\n",
       "      R_quartil_D  F_quartil_A  F_quartil_B  F_quartil_C  F_quartil_D  \\\n",
       "0               0            1            0            0            0   \n",
       "1               0            1            0            0            0   \n",
       "2               0            0            1            0            0   \n",
       "3               0            0            1            0            0   \n",
       "4               1            0            0            0            1   \n",
       "...           ...          ...          ...          ...          ...   \n",
       "3897            1            0            0            0            1   \n",
       "3898            1            0            0            0            1   \n",
       "3899            0            0            0            1            0   \n",
       "3900            0            1            0            0            0   \n",
       "3901            0            0            1            0            0   \n",
       "\n",
       "      V_quartil_A  V_quartil_B  V_quartil_C  V_quartil_D  \n",
       "0               1            0            0            0  \n",
       "1               1            0            0            0  \n",
       "2               1            0            0            0  \n",
       "3               0            1            0            0  \n",
       "4               0            0            0            1  \n",
       "...           ...          ...          ...          ...  \n",
       "3897            0            0            0            1  \n",
       "3898            0            0            0            1  \n",
       "3899            0            0            0            1  \n",
       "3900            1            0            0            0  \n",
       "3901            1            0            0            0  \n",
       "\n",
       "[3902 rows x 15 columns]"
      ]
     },
     "execution_count": 107,
     "metadata": {},
     "output_type": "execute_result"
    }
   ],
   "source": [
    "df_dummies"
   ]
  },
  {
   "cell_type": "code",
   "execution_count": 108,
   "metadata": {},
   "outputs": [],
   "source": [
    "colunas_categoricas = set(df_dummies.iloc[: , 3:].columns)"
   ]
  },
  {
   "cell_type": "code",
   "execution_count": 109,
   "metadata": {},
   "outputs": [],
   "source": [
    "vars_cat = [col in colunas_categoricas for col in df_dummies.columns]\n",
    "distancia_gower = gower_matrix(df_dummies, cat_features=vars_cat)\n",
    "gdv = squareform(distancia_gower, force='tovector')"
   ]
  },
  {
   "cell_type": "code",
   "execution_count": 110,
   "metadata": {},
   "outputs": [
    {
     "data": {
      "text/html": [
       "<div>\n",
       "<style scoped>\n",
       "    .dataframe tbody tr th:only-of-type {\n",
       "        vertical-align: middle;\n",
       "    }\n",
       "\n",
       "    .dataframe tbody tr th {\n",
       "        vertical-align: top;\n",
       "    }\n",
       "\n",
       "    .dataframe thead th {\n",
       "        text-align: right;\n",
       "    }\n",
       "</style>\n",
       "<table border=\"1\" class=\"dataframe\">\n",
       "  <thead>\n",
       "    <tr style=\"text-align: right;\">\n",
       "      <th></th>\n",
       "      <th>ind1</th>\n",
       "      <th>ind2</th>\n",
       "      <th>dist</th>\n",
       "      <th>n</th>\n",
       "    </tr>\n",
       "  </thead>\n",
       "  <tbody>\n",
       "    <tr>\n",
       "      <th>0</th>\n",
       "      <td>1023.0</td>\n",
       "      <td>3617.0</td>\n",
       "      <td>9.521616e-08</td>\n",
       "      <td>2.0</td>\n",
       "    </tr>\n",
       "    <tr>\n",
       "      <th>1</th>\n",
       "      <td>986.0</td>\n",
       "      <td>2692.0</td>\n",
       "      <td>1.360231e-07</td>\n",
       "      <td>2.0</td>\n",
       "    </tr>\n",
       "    <tr>\n",
       "      <th>2</th>\n",
       "      <td>275.0</td>\n",
       "      <td>2691.0</td>\n",
       "      <td>1.496254e-07</td>\n",
       "      <td>2.0</td>\n",
       "    </tr>\n",
       "    <tr>\n",
       "      <th>3</th>\n",
       "      <td>2218.0</td>\n",
       "      <td>2960.0</td>\n",
       "      <td>2.992508e-07</td>\n",
       "      <td>2.0</td>\n",
       "    </tr>\n",
       "    <tr>\n",
       "      <th>4</th>\n",
       "      <td>2080.0</td>\n",
       "      <td>3571.0</td>\n",
       "      <td>6.665131e-07</td>\n",
       "      <td>2.0</td>\n",
       "    </tr>\n",
       "  </tbody>\n",
       "</table>\n",
       "</div>"
      ],
      "text/plain": [
       "     ind1    ind2          dist    n\n",
       "0  1023.0  3617.0  9.521616e-08  2.0\n",
       "1   986.0  2692.0  1.360231e-07  2.0\n",
       "2   275.0  2691.0  1.496254e-07  2.0\n",
       "3  2218.0  2960.0  2.992508e-07  2.0\n",
       "4  2080.0  3571.0  6.665131e-07  2.0"
      ]
     },
     "execution_count": 110,
     "metadata": {},
     "output_type": "execute_result"
    }
   ],
   "source": [
    "Z = linkage(gdv , method = 'complete')\n",
    "Z_df = pd.DataFrame(Z , columns = ['ind1' , 'ind2' , 'dist' , 'n'])\n",
    "Z_df.head()"
   ]
  },
  {
   "cell_type": "code",
   "execution_count": 111,
   "metadata": {},
   "outputs": [],
   "source": [
    "df_RFV['4 grupos'] = fcluster(Z , 4 , criterion = 'maxclust')\n",
    "df_RFV['5 grupos'] = fcluster(Z , 5 , criterion = 'maxclust')"
   ]
  },
  {
   "cell_type": "code",
   "execution_count": 112,
   "metadata": {},
   "outputs": [
    {
     "name": "stdout",
     "output_type": "stream",
     "text": [
      "4 grupos\n",
      "4    990\n",
      "2    974\n",
      "3    970\n",
      "1    968\n",
      "Name: count, dtype: int64\n",
      "5 grupos\n",
      "2    974\n",
      "3    970\n",
      "1    968\n",
      "5    522\n",
      "4    468\n",
      "Name: count, dtype: int64\n"
     ]
    }
   ],
   "source": [
    "print(df_RFV['4 grupos'].value_counts())\n",
    "print(df_RFV['5 grupos'].value_counts())"
   ]
  },
  {
   "cell_type": "code",
   "execution_count": 113,
   "metadata": {},
   "outputs": [],
   "source": [
    "df_RFV['index'] = df_dummies.index\n",
    "df_fin = df_RFV.merge(df_dummies.reset_index() , on = 'index' , how = 'left')"
   ]
  },
  {
   "cell_type": "code",
   "execution_count": 114,
   "metadata": {},
   "outputs": [],
   "source": [
    "df_fin = df_RFV.reset_index().merge(df_dummies.reset_index() , on = 'index' , how = 'left')"
   ]
  },
  {
   "cell_type": "code",
   "execution_count": 115,
   "metadata": {},
   "outputs": [
    {
     "data": {
      "image/png": "[encoded data removed]",
      "text/plain": [
       "<Figure size 1000x600 with 1 Axes>"
      ]
     },
     "metadata": {},
     "output_type": "display_data"
    }
   ],
   "source": [
    "plt.figure(figsize=(10, 6))\n",
    "sns.lineplot(x='4 grupos', y='RFV_Score', data=df_fin, marker='o')\n",
    "plt.title('RFV Score por Grupo')\n",
    "plt.xlabel('Grupo')\n",
    "plt.ylabel('RFV Scores')\n",
    "plt.show()"
   ]
  },
  {
   "cell_type": "code",
   "execution_count": 116,
   "metadata": {},
   "outputs": [
    {
     "data": {
      "image/png": "[encoded data removed]",
      "text/plain": [
       "<Figure size 1000x600 with 1 Axes>"
      ]
     },
     "metadata": {},
     "output_type": "display_data"
    }
   ],
   "source": [
    "plt.figure(figsize=(10, 6))\n",
    "sns.lineplot(x='5 grupos', y='RFV_Score', data=df_fin, marker='o')\n",
    "plt.title('RFV Score por Grupo')\n",
    "plt.xlabel('Grupo')\n",
    "plt.ylabel('RFV Scores')\n",
    "plt.show()"
   ]
  }
 ],
 "metadata": {
  "kernelspec": {
   "display_name": "Python 3 (ipykernel)",
   "language": "python",
   "name": "python3"
  },
  "language_info": {
   "codemirror_mode": {
    "name": "ipython",
    "version": 3
   },
   "file_extension": ".py",
   "mimetype": "text/x-python",
   "name": "python",
   "nbconvert_exporter": "python",
   "pygments_lexer": "ipython3",
   "version": "3.12.3"
  },
  "varInspector": {
   "cols": {
    "lenName": 16,
    "lenType": 16,
    "lenVar": 40
   },
   "kernels_config": {
    "python": {
     "delete_cmd_postfix": "",
     "delete_cmd_prefix": "del ",
     "library": "var_list.py",
     "varRefreshCmd": "print(var_dic_list())"
    },
    "r": {
     "delete_cmd_postfix": ") ",
     "delete_cmd_prefix": "rm(",
     "library": "var_list.r",
     "varRefreshCmd": "cat(var_dic_list()) "
    }
   },
   "types_to_exclude": [
    "module",
    "function",
    "builtin_function_or_method",
    "instance",
    "_Feature"
   ],
   "window_display": false
  },
  "widgets": {
   "application/vnd.jupyter.widget-state+json": {
    "state": {},
    "version_major": 2,
    "version_minor": 0
   }
  }
 },
 "nbformat": 4,
 "nbformat_minor": 4
}
